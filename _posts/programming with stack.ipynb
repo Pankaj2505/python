{
 "cells": [
  {
   "cell_type": "markdown",
   "id": "6988b0c7",
   "metadata": {},
   "source": [
    "# Introduction to stack\n",
    "\n",
    "- Stack is a linear data structure which follows a particular order in which the operations are performed. The order may be LIFO(Last In First Out) .\n",
    "\n",
    "#### Operation on stack\n",
    "- Push: Adds an item in the stack. If the stack is full, then it is said to be an Overflow condition.\n",
    "- Pop: Removes an item from the stack. The items are popped in the reversed order in which they are pushed. If the stack is empty, then it is said to be an Underflow condition.\n",
    "- Peek or Top: Returns the top element of the stack.\n",
    "- isEmpty: Returns true if the stack is empty, else false.\n",
    "\n",
    "\n",
    "#### How to understand a stack practically? \n",
    "There are many real-life examples of a stack. Consider the simple example of plates stacked over one another in a canteen. The plate which is at the top is the first one to be removed, i.e. the plate which has been placed at the bottommost position remains in the stack for the longest period of time. So, it can be simply seen to follow the LIFO/FILO order.\n",
    "\n",
    "#### Time Complexities of operations on stack:\n",
    "\n",
    "push(), pop(), isEmpty() and peek() all take O(1) time. We do not run any loop in any of these operations.\n",
    "\n",
    "#### Implementation: \n",
    "There are two ways to implement a stack: \n",
    "- Using array\n",
    "- Using linked list\n",
    "\n",
    "#### Application of Stack \n",
    "- In Memory management, any modern computer uses a stack as the primary management for a running purpose. Each program that is running in a computer system has its own memory allocations\n",
    "- Redo-undo features at many places like editors, photoshop.\n",
    "- Forward and backward feature in web browsers\n",
    "- Backtracking is one of the algorithm designing techniques. Some examples of backtracking are the Knight-Tour problem, N-Queen problem, find your way through a maze, and game-like chess\n",
    "- String reversal is also another application of stack. Here one by one each character gets inserted into the stack."
   ]
  },
  {
   "cell_type": "code",
   "execution_count": 15,
   "id": "29011621",
   "metadata": {},
   "outputs": [
    {
     "name": "stdout",
     "output_type": "stream",
     "text": [
      "10added to the stack\n",
      "20added to the stack\n",
      "30added to the stack\n",
      "30 popped from stack\n",
      "['10', '20']\n"
     ]
    }
   ],
   "source": [
    "# Implemanting Stack using Array\n",
    "# Pros: Easy to implement. Memory is saved as pointers are not involved. \n",
    "# Cons: It is not dynamic. It doesn’t grow and shrink depending on needs at runtime.\n",
    "\n",
    "\n",
    "def createStack():\n",
    "    '''Creation of an empty stack'''\n",
    "    stack=[]\n",
    "    return stack\n",
    "\n",
    "def push(stack,item):\n",
    "    '''push one item at a time to the top,here  tackling overflow problem is not advisable  as list can grow to any size'''\n",
    "    stack.append(item)\n",
    "    print(item +\"added to the stack\")\n",
    "    \n",
    "def isStackEmpty(stack):\n",
    "    return len(stack)==0\n",
    "\n",
    "def pop(stack):\n",
    "    '''To remove the last element from stack'''\n",
    "    if isStackEmpty(stack):\n",
    "        print('stack is empty')\n",
    "    else:\n",
    "        return stack.pop()\n",
    "        \n",
    "    \n",
    "def peek(stack):\n",
    "    '''to fetch the last element from stack without removing it'''\n",
    "    if isStackEmpty(stack):\n",
    "        print('stack is empty')\n",
    "    else:\n",
    "        return stack[-1]\n",
    "    \n",
    "# Driver program to test above functions   \n",
    "stack = createStack()\n",
    "push(stack, str(10))\n",
    "push(stack, str(20))\n",
    "push(stack, str(30))\n",
    "print(pop(stack) + \" popped from stack\")\n",
    "print(stack)\n",
    "    "
   ]
  },
  {
   "cell_type": "code",
   "execution_count": 12,
   "id": "29c55a05",
   "metadata": {},
   "outputs": [
    {
     "name": "stdout",
     "output_type": "stream",
     "text": [
      "[1, 2, 3, 4]\n"
     ]
    },
    {
     "data": {
      "text/plain": [
       "4"
      ]
     },
     "execution_count": 12,
     "metadata": {},
     "output_type": "execute_result"
    }
   ],
   "source": [
    "# Implemantion of Stack using linklist\n",
    "\n"
   ]
  },
  {
   "cell_type": "code",
   "execution_count": null,
   "id": "0284305a",
   "metadata": {},
   "outputs": [],
   "source": []
  }
 ],
 "metadata": {
  "kernelspec": {
   "display_name": "Python 3",
   "language": "python",
   "name": "python3"
  },
  "language_info": {
   "codemirror_mode": {
    "name": "ipython",
    "version": 3
   },
   "file_extension": ".py",
   "mimetype": "text/x-python",
   "name": "python",
   "nbconvert_exporter": "python",
   "pygments_lexer": "ipython3",
   "version": "3.8.8"
  }
 },
 "nbformat": 4,
 "nbformat_minor": 5
}
